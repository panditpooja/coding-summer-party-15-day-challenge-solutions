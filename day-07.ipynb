{
  "cells": [
    {
      "cell_type": "markdown",
      "metadata": {},
      "source": [
        "# Day 7: Celebrity Product Drops Sales Performance Analysis"
      ]
    },
    {
      "cell_type": "markdown",
      "metadata": {},
      "source": [
        "You are a Product Analyst working on Nike's marketing performance team. Your team wants to evaluate the effectiveness of celebrity product collaborations by analyzing sales data. You will investigate the performance of celebrity product drops to inform future marketing strategies."
      ]
    },
    {
      "cell_type": "code",
      "metadata": {},
      "execution_count": null,
      "outputs": [],
      "source": "import pandas as pd\nimport numpy as np\n\nfct_sales_data = [\n  {\n    \"sale_id\": 1,\n    \"sale_date\": \"2025-01-10\",\n    \"product_id\": 901,\n    \"sale_amount\": null,\n    \"celebrity_id\": 101\n  },\n  {\n    \"sale_id\": 2,\n    \"sale_date\": \"2025-01-15\",\n    \"product_id\": 901,\n    \"sale_amount\": 1500,\n    \"celebrity_id\": 101\n  },\n  {\n    \"sale_id\": 3,\n    \"sale_date\": \"2025-02-03\",\n    \"product_id\": 902,\n    \"sale_amount\": 2000.5,\n    \"celebrity_id\": 102\n  },\n  {\n    \"sale_id\": 4,\n    \"sale_date\": \"2025-03-12\",\n    \"product_id\": 903,\n    \"sale_amount\": 2500.75,\n    \"celebrity_id\": 103\n  },\n  {\n    \"sale_id\": 5,\n    \"sale_date\": \"2025-03-20\",\n    \"product_id\": 904,\n    \"sale_amount\": null,\n    \"celebrity_id\": 104\n  },\n  {\n    \"sale_id\": 6,\n    \"sale_date\": \"2025-02-28\",\n    \"product_id\": 901,\n    \"sale_amount\": 1000,\n    \"celebrity_id\": 101\n  },\n  {\n    \"sale_id\": 7,\n    \"sale_date\": \"2025-03-25\",\n    \"product_id\": 902,\n    \"sale_amount\": 300,\n    \"celebrity_id\": 102\n  },\n  {\n    \"sale_id\": 8,\n    \"sale_date\": \"2025-03-30\",\n    \"product_id\": 905,\n    \"sale_amount\": 1800,\n    \"celebrity_id\": 105\n  },\n  {\n    \"sale_id\": 9,\n    \"sale_date\": \"2025-01-20\",\n    \"product_id\": 903,\n    \"sale_amount\": 1200,\n    \"celebrity_id\": 103\n  },\n  {\n    \"sale_id\": 10,\n    \"sale_date\": \"2025-02-05\",\n    \"product_id\": 906,\n    \"sale_amount\": 500,\n    \"celebrity_id\": 106\n  },\n  {\n    \"sale_id\": 11,\n    \"sale_date\": \"2025-03-01\",\n    \"product_id\": 907,\n    \"sale_amount\": 2200,\n    \"celebrity_id\": 107\n  },\n  {\n    \"sale_id\": 12,\n    \"sale_date\": \"2025-02-15\",\n    \"product_id\": 908,\n    \"sale_amount\": 1300,\n    \"celebrity_id\": 101\n  },\n  {\n    \"sale_id\": 13,\n    \"sale_date\": \"2025-03-15\",\n    \"product_id\": 909,\n    \"sale_amount\": null,\n    \"celebrity_id\": 102\n  },\n  {\n    \"sale_id\": 14,\n    \"sale_date\": \"2025-01-25\",\n    \"product_id\": 910,\n    \"sale_amount\": 900,\n    \"celebrity_id\": 108\n  },\n  {\n    \"sale_id\": 15,\n    \"sale_date\": \"2025-02-20\",\n    \"product_id\": 905,\n    \"sale_amount\": 700,\n    \"celebrity_id\": 105\n  },\n  {\n    \"sale_id\": 16,\n    \"sale_date\": \"2025-03-28\",\n    \"product_id\": 902,\n    \"sale_amount\": 1500,\n    \"celebrity_id\": 102\n  },\n  {\n    \"sale_id\": 17,\n    \"sale_date\": \"2024-11-15\",\n    \"product_id\": 901,\n    \"sale_amount\": 800,\n    \"celebrity_id\": 101\n  },\n  {\n    \"sale_id\": 18,\n    \"sale_date\": \"2024-07-30\",\n    \"product_id\": 902,\n    \"sale_amount\": 1000,\n    \"celebrity_id\": 102\n  },\n  {\n    \"sale_id\": 19,\n    \"sale_date\": \"2025-04-10\",\n    \"product_id\": 905,\n    \"sale_amount\": 2000,\n    \"celebrity_id\": 105\n  },\n  {\n    \"sale_id\": 20,\n    \"sale_date\": \"2024-09-05\",\n    \"product_id\": 903,\n    \"sale_amount\": 1100,\n    \"celebrity_id\": 103\n  }\n]\nfct_sales = pd.DataFrame(fct_sales_data)\n"
    },
    {
      "cell_type": "markdown",
      "metadata": {},
      "source": [
        "## Question 1\n\nFor Q1 2025 (January 1st through March 31st, 2025), can you identify all records of celebrity collaborations from the sales data where the sale_amount is missing? This will help us flag incomplete records that could impact the analysis of Nike's product performance."
      ]
    },
    {
      "cell_type": "code",
      "metadata": {},
      "execution_count": null,
      "outputs": [],
      "source": "# Note: pandas and numpy are already imported as pd and np\n# The following tables are loaded as pandas DataFrames with the same names: fct_sales\n# Please print your final result or dataframe\n\n# Filter for Q1 2025\nfiltered_df = fct_sales[\n    fct_sales['sale_date'].between('2025-01-01', '2025-03-31')\n]\n\n# Keep only celebrity collaborations with missing sale_amount\nmissing_records = filtered_df[\n    filtered_df['celebrity_id'].notna() & filtered_df['sale_amount'].isna()\n]\n\nprint(missing_records)"
    },
    {
      "cell_type": "markdown",
      "metadata": {},
      "source": [
        "## Question 2\n\nFor Q1 2025 (January 1st through March 31st, 2025), can you list the unique combinations of celebrity_id and product_id from the sales table? This will ensure that each collaboration is accurately accounted for in the analysis of Nike's marketing performance."
      ]
    },
    {
      "cell_type": "code",
      "metadata": {},
      "execution_count": null,
      "outputs": [],
      "source": "# 1. Filter for Q1 2025\nq1_sales = fct_sales[\n    fct_sales['sale_date'].between('2025-01-01', '2025-03-31')\n]\n\n# 2. Keep only rows that have a celebrity collaboration\nq1_celebrity_sales = q1_sales[q1_sales['celebrity_id'].notna()]\n\n# 3. Select only the celebrity_id and product_id columns\npairs = q1_celebrity_sales[['celebrity_id', 'product_id']]\n\n# 4. Remove duplicates to get unique combinations\nunique_pairs = pairs.drop_duplicates()\n\n# 5. (Optional) Sort for readability\nunique_pairs = unique_pairs.sort_values(['celebrity_id', 'product_id']).reset_index(drop=True)\n\nprint(unique_pairs)"
    },
    {
      "cell_type": "markdown",
      "metadata": {},
      "source": [
        "## Question 3\n\nFor Q1 2025 (January 1st through March 31st, 2025), can you rank the unique celebrity collaborations based on their total sales amounts and list the top 3 collaborations in descending order? This will help recommend the most successful partnerships for Nike's future product drop strategies."
      ]
    },
    {
      "cell_type": "code",
      "metadata": {},
      "execution_count": null,
      "outputs": [],
      "source": "# Q1 2025 + only rows with a celebrity\nq1 = fct_sales[\n    fct_sales['sale_date'].between('2025-01-01', '2025-03-31')\n    & fct_sales['celebrity_id'].notna()\n].copy()\n\n# Treat missing sale_amount as 0 before summing (optional but safe)\nq1['sale_amount'] = q1['sale_amount'].fillna(0)\n\n# Rank celebrities by total sales and take top 3\ntop_3_celebrities = (\n    q1.groupby('celebrity_id', as_index=False)['sale_amount']\n      .sum()\n      .sort_values('sale_amount', ascending=False)\n      .head(3)\n)\n\nprint(top_3_celebrities)"
    },
    {
      "cell_type": "markdown",
      "metadata": {},
      "source": [
        "Made with ❤️ by [Interview Master](https://www.interviewmaster.ai)"
      ]
    }
  ],
  "metadata": {
    "kernelspec": {
      "name": "python3",
      "language": "python",
      "display_name": "Python 3"
    },
    "language_info": {
      "name": "python",
      "version": "3",
      "mimetype": "text/x-python",
      "file_extension": ".py"
    }
  },
  "nbformat": 4,
  "nbformat_minor": 5
}