{
  "cells": [
    {
      "cell_type": "markdown",
      "metadata": {},
      "source": [
        "# Day 5: Switch 2 Pre-sales Demand Forecasting"
      ]
    },
    {
      "cell_type": "markdown",
      "metadata": {},
      "source": [
        "You are a Product Analyst working with the Nintendo Switch 2 pre-sales team to analyze regional pre-order patterns and customer segmentation. Your team needs to understand how different demographics influence pre-sale volumes across regions. You will leverage historical pre-sale transaction data to extract meaningful insights that can guide marketing strategies."
      ]
    },
    {
      "cell_type": "code",
      "metadata": {},
      "execution_count": null,
      "outputs": [],
      "source": "import pandas as pd\nimport numpy as np\n\npre_sale_data_data = [\n  {\n    \"region\": \"North America\",\n    \"customer_id\": \"C001\",\n    \"pre_order_date\": \"2024-07-02\",\n    \"demographic_group\": \"Gamer\",\n    \"pre_order_quantity\": 1\n  },\n  {\n    \"region\": \"Europe\",\n    \"customer_id\": \"C002\",\n    \"pre_order_date\": \"2024-07-03\",\n    \"demographic_group\": \"Casual\",\n    \"pre_order_quantity\": 2\n  },\n  {\n    \"region\": \"Asia\",\n    \"customer_id\": \"C003\",\n    \"pre_order_date\": \"2024-07-04\",\n    \"demographic_group\": \"Tech Enthusiast\",\n    \"pre_order_quantity\": 1\n  },\n  {\n    \"region\": \"Latin America\",\n    \"customer_id\": \"C004\",\n    \"pre_order_date\": \"2024-07-05\",\n    \"demographic_group\": \"Family\",\n    \"pre_order_quantity\": 3\n  },\n  {\n    \"region\": \"Oceania\",\n    \"customer_id\": \"C005\",\n    \"pre_order_date\": \"2024-07-06\",\n    \"demographic_group\": \"Student\",\n    \"pre_order_quantity\": 2\n  },\n  {\n    \"region\": \"North America\",\n    \"customer_id\": \"C006\",\n    \"pre_order_date\": \"2024-07-07\",\n    \"demographic_group\": \"Gamer\",\n    \"pre_order_quantity\": 5\n  },\n  {\n    \"region\": \"Europe\",\n    \"customer_id\": \"C007\",\n    \"pre_order_date\": \"2024-07-08\",\n    \"demographic_group\": null,\n    \"pre_order_quantity\": 2\n  },\n  {\n    \"region\": null,\n    \"customer_id\": \"C008\",\n    \"pre_order_date\": \"2024-07-09\",\n    \"demographic_group\": \"Casual\",\n    \"pre_order_quantity\": 1\n  },\n  {\n    \"region\": \"Asia\",\n    \"customer_id\": \"C009\",\n    \"pre_order_date\": \"2024-07-10\",\n    \"demographic_group\": \"Family\",\n    \"pre_order_quantity\": 4\n  },\n  {\n    \"region\": \"North America\",\n    \"customer_id\": \"C010\",\n    \"pre_order_date\": \"2024-07-11\",\n    \"demographic_group\": \"Gamer\",\n    \"pre_order_quantity\": 1\n  },\n  {\n    \"region\": \"North America\",\n    \"customer_id\": \"C010\",\n    \"pre_order_date\": \"2024-07-11\",\n    \"demographic_group\": \"Gamer\",\n    \"pre_order_quantity\": 1\n  },\n  {\n    \"region\": \"Europe\",\n    \"customer_id\": \"C011\",\n    \"pre_order_date\": \"2024-07-12\",\n    \"demographic_group\": \"Student\",\n    \"pre_order_quantity\": 2\n  },\n  {\n    \"region\": \"Asia\",\n    \"customer_id\": \"C012\",\n    \"pre_order_date\": \"2024-07-13\",\n    \"demographic_group\": \"Casual\",\n    \"pre_order_quantity\": 3\n  },\n  {\n    \"region\": \"Latin America\",\n    \"customer_id\": \"C013\",\n    \"pre_order_date\": \"2024-07-14\",\n    \"demographic_group\": \"Tech Enthusiast\",\n    \"pre_order_quantity\": 2\n  },\n  {\n    \"region\": \"Oceania\",\n    \"customer_id\": \"C014\",\n    \"pre_order_date\": \"2024-07-15\",\n    \"demographic_group\": \"Gamer\",\n    \"pre_order_quantity\": 5\n  },\n  {\n    \"region\": \"North America\",\n    \"customer_id\": \"C015\",\n    \"pre_order_date\": \"2024-07-16\",\n    \"demographic_group\": \"Casual\",\n    \"pre_order_quantity\": 1\n  },\n  {\n    \"region\": \"Europe\",\n    \"customer_id\": \"C016\",\n    \"pre_order_date\": \"2024-07-17\",\n    \"demographic_group\": \"Family\",\n    \"pre_order_quantity\": 4\n  },\n  {\n    \"region\": \"Asia\",\n    \"customer_id\": \"C017\",\n    \"pre_order_date\": \"2024-07-18\",\n    \"demographic_group\": \"Student\",\n    \"pre_order_quantity\": 3\n  },\n  {\n    \"region\": \"Latin America\",\n    \"customer_id\": \"C018\",\n    \"pre_order_date\": \"2024-07-19\",\n    \"demographic_group\": \"Gamer\",\n    \"pre_order_quantity\": 1\n  },\n  {\n    \"region\": \"Oceania\",\n    \"customer_id\": \"C019\",\n    \"pre_order_date\": \"2024-07-20\",\n    \"demographic_group\": \"Tech Enthusiast\",\n    \"pre_order_quantity\": 2\n  },\n  {\n    \"region\": \"Oceania\",\n    \"customer_id\": \"C019\",\n    \"pre_order_date\": \"2024-07-20\",\n    \"demographic_group\": \"Tech Enthusiast\",\n    \"pre_order_quantity\": 2\n  },\n  {\n    \"region\": \"North America\",\n    \"customer_id\": \"C020\",\n    \"pre_order_date\": \"2024-07-21\",\n    \"demographic_group\": \"Family\",\n    \"pre_order_quantity\": 3\n  },\n  {\n    \"region\": \"Europe\",\n    \"customer_id\": \"C021\",\n    \"pre_order_date\": \"2024-07-22\",\n    \"demographic_group\": \"Gamer\",\n    \"pre_order_quantity\": 2\n  },\n  {\n    \"region\": \"Asia\",\n    \"customer_id\": \"C022\",\n    \"pre_order_date\": \"2024-07-23\",\n    \"demographic_group\": \"Casual\",\n    \"pre_order_quantity\": 1\n  },\n  {\n    \"region\": \"Latin America\",\n    \"customer_id\": \"C023\",\n    \"pre_order_date\": \"2024-07-24\",\n    \"demographic_group\": \"Student\",\n    \"pre_order_quantity\": 4\n  },\n  {\n    \"region\": \"Oceania\",\n    \"customer_id\": \"C024\",\n    \"pre_order_date\": \"2024-07-25\",\n    \"demographic_group\": \"Family\",\n    \"pre_order_quantity\": 2\n  },\n  {\n    \"region\": \"North America\",\n    \"customer_id\": \"C025\",\n    \"pre_order_date\": \"2024-07-26\",\n    \"demographic_group\": \"Tech Enthusiast\",\n    \"pre_order_quantity\": 1\n  },\n  {\n    \"region\": \"Europe\",\n    \"customer_id\": \"C026\",\n    \"pre_order_date\": \"2024-07-27\",\n    \"demographic_group\": \"Student\",\n    \"pre_order_quantity\": 5\n  },\n  {\n    \"region\": \"Asia\",\n    \"customer_id\": \"C027\",\n    \"pre_order_date\": \"2024-07-28\",\n    \"demographic_group\": \"Gamer\",\n    \"pre_order_quantity\": 2\n  },\n  {\n    \"region\": \"Latin America\",\n    \"customer_id\": \"C028\",\n    \"pre_order_date\": \"2024-07-29\",\n    \"demographic_group\": \"Casual\",\n    \"pre_order_quantity\": 3\n  },\n  {\n    \"region\": \"Oceania\",\n    \"customer_id\": \"C029\",\n    \"pre_order_date\": \"2024-07-30\",\n    \"demographic_group\": \"Family\",\n    \"pre_order_quantity\": 1\n  },\n  {\n    \"region\": \"North America\",\n    \"customer_id\": \"C030\",\n    \"pre_order_date\": \"2024-08-01\",\n    \"demographic_group\": \"Gamer\",\n    \"pre_order_quantity\": 1\n  },\n  {\n    \"region\": \"Asia\",\n    \"customer_id\": \"C031\",\n    \"pre_order_date\": \"2024-08-02\",\n    \"demographic_group\": null,\n    \"pre_order_quantity\": 2\n  },\n  {\n    \"region\": \"Latin America\",\n    \"customer_id\": \"C032\",\n    \"pre_order_date\": \"2024-08-03\",\n    \"demographic_group\": \"Tech Enthusiast\",\n    \"pre_order_quantity\": 3\n  },\n  {\n    \"region\": \"Oceania\",\n    \"customer_id\": \"C033\",\n    \"pre_order_date\": \"2024-08-04\",\n    \"demographic_group\": \"Student\",\n    \"pre_order_quantity\": 1\n  },\n  {\n    \"region\": \"North America\",\n    \"customer_id\": \"C034\",\n    \"pre_order_date\": \"2024-08-05\",\n    \"demographic_group\": \"Family\",\n    \"pre_order_quantity\": 4\n  },\n  {\n    \"region\": \"Europe\",\n    \"customer_id\": \"C035\",\n    \"pre_order_date\": \"2024-08-06\",\n    \"demographic_group\": \"Gamer\",\n    \"pre_order_quantity\": 2\n  },\n  {\n    \"region\": \"Asia\",\n    \"customer_id\": \"C036\",\n    \"pre_order_date\": \"2024-08-07\",\n    \"demographic_group\": \"Casual\",\n    \"pre_order_quantity\": 5\n  },\n  {\n    \"region\": \"Latin America\",\n    \"customer_id\": \"C037\",\n    \"pre_order_date\": \"2024-08-08\",\n    \"demographic_group\": \"Family\",\n    \"pre_order_quantity\": 1\n  },\n  {\n    \"region\": \"Oceania\",\n    \"customer_id\": \"C038\",\n    \"pre_order_date\": \"2024-08-09\",\n    \"demographic_group\": \"Tech Enthusiast\",\n    \"pre_order_quantity\": 2\n  },\n  {\n    \"region\": \"North America\",\n    \"customer_id\": \"C039\",\n    \"pre_order_date\": \"2024-08-10\",\n    \"demographic_group\": \"Student\",\n    \"pre_order_quantity\": 10\n  },\n  {\n    \"region\": \"Europe\",\n    \"customer_id\": \"C040\",\n    \"pre_order_date\": \"2024-08-11\",\n    \"demographic_group\": \"Family\",\n    \"pre_order_quantity\": 3\n  },\n  {\n    \"region\": \"Asia\",\n    \"customer_id\": \"C041\",\n    \"pre_order_date\": \"2024-08-12\",\n    \"demographic_group\": \"Gamer\",\n    \"pre_order_quantity\": 1\n  },\n  {\n    \"region\": \"Latin America\",\n    \"customer_id\": \"C042\",\n    \"pre_order_date\": \"2024-08-13\",\n    \"demographic_group\": \"Casual\",\n    \"pre_order_quantity\": 2\n  },\n  {\n    \"region\": \"Oceania\",\n    \"customer_id\": \"C043\",\n    \"pre_order_date\": \"2024-08-14\",\n    \"demographic_group\": \"Student\",\n    \"pre_order_quantity\": 5\n  },\n  {\n    \"region\": \"North America\",\n    \"customer_id\": \"C044\",\n    \"pre_order_date\": \"2024-08-15\",\n    \"demographic_group\": \"Tech Enthusiast\",\n    \"pre_order_quantity\": 2\n  },\n  {\n    \"region\": \"Europe\",\n    \"customer_id\": \"C045\",\n    \"pre_order_date\": \"2024-08-16\",\n    \"demographic_group\": \"Family\",\n    \"pre_order_quantity\": 1\n  },\n  {\n    \"region\": \"Asia\",\n    \"customer_id\": \"C046\",\n    \"pre_order_date\": \"2024-08-17\",\n    \"demographic_group\": \"Gamer\",\n    \"pre_order_quantity\": 3\n  },\n  {\n    \"region\": \"Latin America\",\n    \"customer_id\": \"C047\",\n    \"pre_order_date\": \"2024-08-18\",\n    \"demographic_group\": \"Casual\",\n    \"pre_order_quantity\": 2\n  },\n  {\n    \"region\": \"Oceania\",\n    \"customer_id\": \"C048\",\n    \"pre_order_date\": \"2024-08-19\",\n    \"demographic_group\": null,\n    \"pre_order_quantity\": 4\n  },\n  {\n    \"region\": \"North America\",\n    \"customer_id\": \"C049\",\n    \"pre_order_date\": \"2024-08-20\",\n    \"demographic_group\": \"Student\",\n    \"pre_order_quantity\": 1\n  },\n  {\n    \"region\": \"Europe\",\n    \"customer_id\": \"C050\",\n    \"pre_order_date\": \"2024-08-21\",\n    \"demographic_group\": \"Gamer\",\n    \"pre_order_quantity\": 2\n  },\n  {\n    \"region\": \"Asia\",\n    \"customer_id\": \"C051\",\n    \"pre_order_date\": \"2024-08-22\",\n    \"demographic_group\": \"Casual\",\n    \"pre_order_quantity\": 3\n  },\n  {\n    \"region\": \"Latin America\",\n    \"customer_id\": \"C052\",\n    \"pre_order_date\": \"2024-08-23\",\n    \"demographic_group\": \"Tech Enthusiast\",\n    \"pre_order_quantity\": 2\n  },\n  {\n    \"region\": \"Oceania\",\n    \"customer_id\": \"C053\",\n    \"pre_order_date\": \"2024-08-24\",\n    \"demographic_group\": \"Family\",\n    \"pre_order_quantity\": 1\n  },\n  {\n    \"region\": \"North America\",\n    \"customer_id\": \"C054\",\n    \"pre_order_date\": \"2024-08-25\",\n    \"demographic_group\": \"Gamer\",\n    \"pre_order_quantity\": 1\n  },\n  {\n    \"region\": \"Europe\",\n    \"customer_id\": \"C055\",\n    \"pre_order_date\": \"2024-08-26\",\n    \"demographic_group\": \"Casual\",\n    \"pre_order_quantity\": 2\n  },\n  {\n    \"region\": \"Asia\",\n    \"customer_id\": \"C056\",\n    \"pre_order_date\": \"2024-08-27\",\n    \"demographic_group\": \"Student\",\n    \"pre_order_quantity\": 3\n  },\n  {\n    \"region\": \"Latin America\",\n    \"customer_id\": \"C057\",\n    \"pre_order_date\": \"2024-08-28\",\n    \"demographic_group\": \"Family\",\n    \"pre_order_quantity\": 4\n  },\n  {\n    \"region\": \"Oceania\",\n    \"customer_id\": \"C058\",\n    \"pre_order_date\": \"2024-08-29\",\n    \"demographic_group\": \"Tech Enthusiast\",\n    \"pre_order_quantity\": 1\n  }\n]\npre_sale_data = pd.DataFrame(pre_sale_data_data)\n"
    },
    {
      "cell_type": "markdown",
      "metadata": {},
      "source": [
        "## Question 1\n\nWhat percentage of records have missing values in at least one column? Handle the missing values, so that we have a cleaned dataset to work with."
      ]
    },
    {
      "cell_type": "code",
      "metadata": {},
      "execution_count": null,
      "outputs": [],
      "source": "# Step 1: Count how many rows have at least one missing value\nrows_with_missing = pre_sale_data.isna().any(axis=1).sum()\n\n# Step 2: Total number of rows\ntotal_rows = pre_sale_data.shape[0]\n\n# Step 3: Percentage\npercent_records_missing_val = rows_with_missing * 100.0 / total_rows\nprint('Percentage of records with at least one missing value:', percent_records_missing_val)\n\n# Step 4: Handle missing values by replacing them with \"unknown\"\npre_sale_data.fillna(\"unknown\", inplace=True)\n\n# Final cleaned DataFrame\npre_sale_data"
    },
    {
      "cell_type": "markdown",
      "metadata": {},
      "source": [
        "## Question 2\n\nUsing the cleaned data, calculate the total pre-sale orders per month for each region and demographic group."
      ]
    },
    {
      "cell_type": "code",
      "metadata": {},
      "execution_count": null,
      "outputs": [],
      "source": "pre_sale_data.fillna(\"unknown\", inplace=True)\npre_sale_data['pre_order_month'] = pre_sale_data['pre_order_date'].dt.month\n\ntotal_pre_sale_orders = pre_sale_data.groupby(['region','demographic_group','pre_order_month'])['pre_order_quantity'].sum()\n\ntotal_pre_sale_orders"
    },
    {
      "cell_type": "markdown",
      "metadata": {},
      "source": [
        "## Question 3\n\nPredict the total pre-sales quantity for each region for September 2024. Assume that growth rate from August to September, is the same as the growth rate from July to August in each region."
      ]
    },
    {
      "cell_type": "code",
      "metadata": {},
      "execution_count": null,
      "outputs": [],
      "source": "pre_sale_data['month'] = pre_sale_data['pre_order_date'].dt.month\npre_sales_quantity_per_region = pre_sale_data.groupby(['region','month'])['pre_order_quantity'].sum().reset_index(name='total_sales')\n\npre_sales_july = pre_sales_quantity_per_region[pre_sales_quantity_per_region['month']==7]\npre_sales_aug = pre_sales_quantity_per_region[pre_sales_quantity_per_region['month']==8]\n\njoined_presales = pd.merge(pre_sales_july, pre_sales_aug, how='inner', on = 'region', suffixes=('_july', '_aug'))\njoined_presales['growth_rate'] = (joined_presales['total_sales_aug'] - joined_presales['total_sales_july'] )*100.0/joined_presales['total_sales_july'] \npresales_september_growth_rates = joined_presales[['region','total_sales_aug','growth_rate']]\npresales_september_growth_rates['predicted_total_sales'] = ((presales_september_growth_rates['growth_rate']*presales_september_growth_rates['total_sales_aug'])/100.0) + presales_september_growth_rates['total_sales_aug']\npresales_september_growth_rates"
    },
    {
      "cell_type": "markdown",
      "metadata": {},
      "source": [
        "Made with ❤️ by [Interview Master](https://www.interviewmaster.ai)"
      ]
    }
  ],
  "metadata": {
    "kernelspec": {
      "name": "python3",
      "language": "python",
      "display_name": "Python 3"
    },
    "language_info": {
      "name": "python",
      "version": "3",
      "mimetype": "text/x-python",
      "file_extension": ".py"
    }
  },
  "nbformat": 4,
  "nbformat_minor": 5
}