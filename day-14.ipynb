{
  "cells": [
    {
      "cell_type": "markdown",
      "metadata": {},
      "source": [
        "# Day 14: Loyalty Program's Impact on Transaction Patterns"
      ]
    },
    {
      "cell_type": "markdown",
      "metadata": {},
      "source": [
        "You are a Business Analyst on the Starbucks Rewards team investigating customer transaction behavior. Your team wants to understand how loyalty program membership influences purchasing patterns. The goal is to compare transaction metrics between loyalty members and non-members."
      ]
    },
    {
      "cell_type": "code",
      "metadata": {},
      "execution_count": null,
      "outputs": [],
      "source": "import pandas as pd\nimport numpy as np\n\ndim_customers_data = [\n  {\n    \"customer_id\": 1,\n    \"is_loyalty_member\": 1\n  },\n  {\n    \"customer_id\": 2,\n    \"is_loyalty_member\": 0\n  },\n  {\n    \"customer_id\": 3,\n    \"is_loyalty_member\": 1\n  },\n  {\n    \"customer_id\": 4,\n    \"is_loyalty_member\": 0\n  },\n  {\n    \"customer_id\": 5,\n    \"is_loyalty_member\": 1\n  },\n  {\n    \"customer_id\": 6,\n    \"is_loyalty_member\": 1\n  },\n  {\n    \"customer_id\": 7,\n    \"is_loyalty_member\": 0\n  },\n  {\n    \"customer_id\": 8,\n    \"is_loyalty_member\": 1\n  },\n  {\n    \"customer_id\": 9,\n    \"is_loyalty_member\": 0\n  },\n  {\n    \"customer_id\": 10,\n    \"is_loyalty_member\": 0\n  },\n  {\n    \"customer_id\": 11,\n    \"is_loyalty_member\": 1\n  },\n  {\n    \"customer_id\": 12,\n    \"is_loyalty_member\": 0\n  }\n]\ndim_customers = pd.DataFrame(dim_customers_data)\n\nfct_transactions_data = [\n  {\n    \"customer_id\": 1,\n    \"transaction_id\": 101,\n    \"transaction_date\": \"2024-07-05\",\n    \"transaction_value\": 5.5\n  },\n  {\n    \"customer_id\": 1,\n    \"transaction_id\": 102,\n    \"transaction_date\": \"2024-07-15\",\n    \"transaction_value\": 7.25\n  },\n  {\n    \"customer_id\": 2,\n    \"transaction_id\": 103,\n    \"transaction_date\": \"2024-07-10\",\n    \"transaction_value\": 4\n  },\n  {\n    \"customer_id\": 3,\n    \"transaction_id\": 104,\n    \"transaction_date\": \"2024-07-20\",\n    \"transaction_value\": 8.75\n  },\n  {\n    \"customer_id\": 4,\n    \"transaction_id\": 105,\n    \"transaction_date\": \"2024-07-03\",\n    \"transaction_value\": 6.5\n  },\n  {\n    \"customer_id\": 5,\n    \"transaction_id\": 106,\n    \"transaction_date\": \"2024-07-22\",\n    \"transaction_value\": 9\n  },\n  {\n    \"customer_id\": 6,\n    \"transaction_id\": 107,\n    \"transaction_date\": \"2024-07-11\",\n    \"transaction_value\": 10.5\n  },\n  {\n    \"customer_id\": 7,\n    \"transaction_id\": 108,\n    \"transaction_date\": \"2024-07-18\",\n    \"transaction_value\": 4.25\n  },\n  {\n    \"customer_id\": 8,\n    \"transaction_id\": 109,\n    \"transaction_date\": \"2024-07-25\",\n    \"transaction_value\": 12\n  },\n  {\n    \"customer_id\": 9,\n    \"transaction_id\": 110,\n    \"transaction_date\": \"2024-07-07\",\n    \"transaction_value\": 3.75\n  },\n  {\n    \"customer_id\": 10,\n    \"transaction_id\": 111,\n    \"transaction_date\": \"2024-07-12\",\n    \"transaction_value\": 5\n  },\n  {\n    \"customer_id\": 11,\n    \"transaction_id\": 112,\n    \"transaction_date\": \"2024-07-27\",\n    \"transaction_value\": 11.25\n  },\n  {\n    \"customer_id\": 12,\n    \"transaction_id\": 113,\n    \"transaction_date\": \"2024-07-08\",\n    \"transaction_value\": 6\n  },\n  {\n    \"customer_id\": 3,\n    \"transaction_id\": 114,\n    \"transaction_date\": \"2024-07-30\",\n    \"transaction_value\": 7.5\n  },\n  {\n    \"customer_id\": 5,\n    \"transaction_id\": 115,\n    \"transaction_date\": \"2024-07-29\",\n    \"transaction_value\": 10\n  },\n  {\n    \"customer_id\": 1,\n    \"transaction_id\": 116,\n    \"transaction_date\": \"2024-07-31\",\n    \"transaction_value\": 6.25\n  }\n]\nfct_transactions = pd.DataFrame(fct_transactions_data)\n"
    },
    {
      "cell_type": "markdown",
      "metadata": {},
      "source": [
        "## Question 1\n\nFor the month of July 2024, how many transactions did loyalty program members and non-members make? Compare the transaction counts between these two groups."
      ]
    },
    {
      "cell_type": "code",
      "metadata": {},
      "execution_count": null,
      "outputs": [],
      "source": "# Note: pandas and numpy are already imported as pd and np\n# The following tables are loaded as pandas DataFrames with the same names: fct_transactions, dim_customers\n# Please print your final result or dataframe\n\nfiltered_df = fct_transactions[\n  fct_transactions['transaction_date'].between('2024-07-01','2024-07-31')\n]\n\nmerged_df = pd.merge(filtered_df, dim_customers, how='inner', on='customer_id')\n\ngrouped_trans = merged_df.groupby('is_loyalty_member').size().reset_index(name = 'total_trans')\n\nprint(grouped_trans)\n\nloyalty_member_transaction_count = grouped_trans[grouped_trans['is_loyalty_member'] == True]\n\nnot_loyalty_member_transaction_count = grouped_trans[grouped_trans['is_loyalty_member'] == False]\n\nprint(not_loyalty_member_transaction_count)\n\ndifference_count = loyalty_member_transaction_count['total_trans'].values[0] - not_loyalty_member_transaction_count['total_trans'].values[0]\n\nprint(f'Difference in the count of loyalty and non loyalty transactions is {difference_count}')"
    },
    {
      "cell_type": "markdown",
      "metadata": {},
      "source": [
        "## Question 2\n\nWhat is the average transaction value for loyalty program members and non-members during July 2024? Use this to identify which group has a higher average transaction value."
      ]
    },
    {
      "cell_type": "code",
      "metadata": {},
      "execution_count": null,
      "outputs": [],
      "source": "# Note: pandas and numpy are already imported as pd and np\n# The following tables are loaded as pandas DataFrames with the same names: fct_transactions, dim_customers\n# Please print your final result or dataframe\n\nfiltered_df = fct_transactions[\n  fct_transactions['transaction_date'].between('2024-07-01','2024-07-31')\n]\n\nmerged_df = pd.merge(filtered_df, dim_customers, how='inner', on='customer_id')\n\ngrouped_trans = merged_df.groupby('is_loyalty_member')['transaction_value'].mean().reset_index(name = 'avg_trans')\n\nprint(grouped_trans)\n\nloyalty_member_transaction_count = grouped_trans[grouped_trans['is_loyalty_member'] == True]\n\nnot_loyalty_member_transaction_count = grouped_trans[grouped_trans['is_loyalty_member'] == False]\n\ndifference_count = loyalty_member_transaction_count['avg_trans'].values[0] - not_loyalty_member_transaction_count['avg_trans'].values[0]\n\nif difference_count>0:\n  print('The group with higher average is Loyalty Members')\nelse:\n  print('The group with higher average is Non - Loyalty Members')"
    },
    {
      "cell_type": "markdown",
      "metadata": {},
      "source": [
        "## Question 3\n\nDetermine the percentage difference in average transaction value between loyalty program members and non-members for July 2024."
      ]
    },
    {
      "cell_type": "code",
      "metadata": {},
      "execution_count": null,
      "outputs": [],
      "source": "filtered_df = fct_transactions[ fct_transactions['transaction_date'].between('2024-07-01','2024-07-31') ]\n\nmerged_df = pd.merge(filtered_df, dim_customers, how='inner', on='customer_id')\n\n\npivot_grouped_trans = pd.pivot_table(\n  data = merged_df,\n  columns = 'is_loyalty_member',\n  values = 'transaction_value',\n  aggfunc='mean'\n)\n\npivot_grouped_trans.columns = ['non_loyal_avg', 'loyal_avg']\n\npivot_grouped_trans['percent_diff'] = (\n    (pivot_grouped_trans['loyal_avg'] - pivot_grouped_trans['non_loyal_avg']) /\n    pivot_grouped_trans['non_loyal_avg']\n) * 100\n\npivot_grouped_trans"
    },
    {
      "cell_type": "markdown",
      "metadata": {},
      "source": [
        "Made with ❤️ by [Interview Master](https://www.interviewmaster.ai)"
      ]
    }
  ],
  "metadata": {
    "kernelspec": {
      "name": "python3",
      "language": "python",
      "display_name": "Python 3"
    },
    "language_info": {
      "name": "python",
      "version": "3",
      "mimetype": "text/x-python",
      "file_extension": ".py"
    }
  },
  "nbformat": 4,
  "nbformat_minor": 5
}