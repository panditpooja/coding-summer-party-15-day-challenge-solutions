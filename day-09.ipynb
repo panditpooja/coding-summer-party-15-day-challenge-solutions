{
  "cells": [
    {
      "cell_type": "markdown",
      "metadata": {},
      "source": [
        "# Day 9: Instagram Stories Daily User Creation Patterns"
      ]
    },
    {
      "cell_type": "markdown",
      "metadata": {},
      "source": [
        "You are a Product Analyst on the Instagram Stories team investigating story creation patterns. The team wants to understand the distribution of stories created by users daily. You will analyze user storytelling behavior to optimize engagement strategies."
      ]
    },
    {
      "cell_type": "code",
      "metadata": {},
      "execution_count": null,
      "outputs": [],
      "source": "import pandas as pd\nimport numpy as np\n\nstories_data_data = [\n  {\n    \"user_id\": \"user_001\",\n    \"story_date\": \"2024-07-03\",\n    \"story_count\": 3\n  },\n  {\n    \"user_id\": \"user_001\",\n    \"story_date\": \"2024-07-03\",\n    \"story_count\": 3\n  },\n  {\n    \"user_id\": \"user_001\",\n    \"story_date\": \"2024-08-15\",\n    \"story_count\": 5\n  },\n  {\n    \"user_id\": \"user_001\",\n    \"story_date\": \"2024-09-10\",\n    \"story_count\": 0\n  },\n  {\n    \"user_id\": \"user_001\",\n    \"story_date\": \"2024-10-05\",\n    \"story_count\": 20\n  },\n  {\n    \"user_id\": \"user_001\",\n    \"story_date\": \"07/15/2024\",\n    \"story_count\": 2\n  },\n  {\n    \"user_id\": \"user_002\",\n    \"story_date\": \"2024-07-03\",\n    \"story_count\": 4\n  },\n  {\n    \"user_id\": \" user_002\",\n    \"story_date\": \"2024-07-04\",\n    \"story_count\": 3\n  },\n  {\n    \"user_id\": \"user_002\",\n    \"story_date\": null,\n    \"story_count\": 6\n  },\n  {\n    \"user_id\": \"user_002\",\n    \"story_date\": \"2024-12-25\",\n    \"story_count\": 1\n  },\n  {\n    \"user_id\": \"user_002\",\n    \"story_date\": \"2025-01-15\",\n    \"story_count\": 7\n  },\n  {\n    \"user_id\": \"user_002\",\n    \"story_date\": \"2025-06-29\",\n    \"story_count\": 10\n  },\n  {\n    \"user_id\": \"user_003\",\n    \"story_date\": \"2024-07-10\",\n    \"story_count\": 2\n  },\n  {\n    \"user_id\": \"user_003\",\n    \"story_date\": \"2024-08-20\",\n    \"story_count\": 8\n  },\n  {\n    \"user_id\": \"user_003\",\n    \"story_date\": \"2024-08-20\",\n    \"story_count\": 8\n  },\n  {\n    \"user_id\": \"user_003\",\n    \"story_date\": \"2025-03-11\",\n    \"story_count\": 5\n  },\n  {\n    \"user_id\": null,\n    \"story_date\": \"2025-03-12\",\n    \"story_count\": 3\n  },\n  {\n    \"user_id\": \"USER_003\",\n    \"story_date\": \"2025-04-01\",\n    \"story_count\": 4\n  },\n  {\n    \"user_id\": \"user_004\",\n    \"story_date\": \"2024-07-15\",\n    \"story_count\": 6\n  },\n  {\n    \"user_id\": \"user_004\",\n    \"story_date\": \"2024-09-30\",\n    \"story_count\": 7\n  },\n  {\n    \"user_id\": \"user_004\",\n    \"story_date\": \"2024/10/10\",\n    \"story_count\": 4\n  },\n  {\n    \"user_id\": \"user_004\",\n    \"story_date\": \"2024-11-11\",\n    \"story_count\": 3\n  },\n  {\n    \"user_id\": \"user_004\",\n    \"story_date\": \"2025-02-28\",\n    \"story_count\": 12\n  },\n  {\n    \"user_id\": \"user_004\",\n    \"story_date\": \"2025-03-01\",\n    \"story_count\": 0\n  },\n  {\n    \"user_id\": \"user_005\",\n    \"story_date\": \"2024-08-01\",\n    \"story_count\": 1\n  },\n  {\n    \"user_id\": \"user_005\",\n    \"story_date\": \"2024-08-02\",\n    \"story_count\": 2\n  },\n  {\n    \"user_id\": \"user_005\",\n    \"story_date\": \"2024-08-03\",\n    \"story_count\": 3\n  },\n  {\n    \"user_id\": \"user_005\",\n    \"story_date\": \"2024-08-04\",\n    \"story_count\": 4\n  },\n  {\n    \"user_id\": \"user_005\",\n    \"story_date\": \"2024-08-05\",\n    \"story_count\": null\n  },\n  {\n    \"user_id\": \"user_005\",\n    \"story_date\": \"2024-08-06\",\n    \"story_count\": 5\n  },\n  {\n    \"user_id\": \"user_006\",\n    \"story_date\": \"2024-09-01\",\n    \"story_count\": 9\n  },\n  {\n    \"user_id\": \"user_006\",\n    \"story_date\": \"2024-09-02\",\n    \"story_count\": 10\n  },\n  {\n    \"user_id\": \"user_006\",\n    \"story_date\": \"2024-09-03\",\n    \"story_count\": 9\n  },\n  {\n    \"user_id\": \"user_006\",\n    \"story_date\": \"2024-09-04\",\n    \"story_count\": 50\n  },\n  {\n    \"user_id\": \"user_006\",\n    \"story_date\": \"2024-09-05\",\n    \"story_count\": 8\n  },\n  {\n    \"user_id\": \"user_006\",\n    \"story_date\": null,\n    \"story_count\": 7\n  },\n  {\n    \"user_id\": \"user_007\",\n    \"story_date\": \"2024-10-10\",\n    \"story_count\": 4\n  },\n  {\n    \"user_id\": \"user_007\",\n    \"story_date\": \"2024-10-11\",\n    \"story_count\": 4\n  },\n  {\n    \"user_id\": \"user_007\",\n    \"story_date\": \"2024-10-12\",\n    \"story_count\": 4\n  },\n  {\n    \"user_id\": \"user_007\",\n    \"story_date\": \"2024-10-13\",\n    \"story_count\": 3\n  },\n  {\n    \"user_id\": \"user_007\",\n    \"story_date\": \"2024-10-14\",\n    \"story_count\": 2\n  },\n  {\n    \"user_id\": \"user_007\",\n    \"story_date\": \"2024-10-15\",\n    \"story_count\": 1\n  },\n  {\n    \"user_id\": \"user_008\",\n    \"story_date\": \"2025-01-01\",\n    \"story_count\": 11\n  },\n  {\n    \"user_id\": \"user_008\",\n    \"story_date\": \"2025-01-02\",\n    \"story_count\": 12\n  },\n  {\n    \"user_id\": \"user_008\",\n    \"story_date\": \"2025-01-03\",\n    \"story_count\": 13\n  },\n  {\n    \"user_id\": \"user_008\",\n    \"story_date\": \"2025-01-04\",\n    \"story_count\": 14\n  },\n  {\n    \"user_id\": \"user_008\",\n    \"story_date\": \"2025-01-05\",\n    \"story_count\": 15\n  },\n  {\n    \"user_id\": \"user_008\",\n    \"story_date\": \"2025-01-06\",\n    \"story_count\": 0\n  },\n  {\n    \"user_id\": \"user_009\",\n    \"story_date\": \"2024-12-01\",\n    \"story_count\": 1\n  },\n  {\n    \"user_id\": \"user_009\",\n    \"story_date\": \"2024-12-02\",\n    \"story_count\": 2\n  },\n  {\n    \"user_id\": \"user_009\",\n    \"story_date\": \"2024-12-03\",\n    \"story_count\": 3\n  },\n  {\n    \"user_id\": \"user_009\",\n    \"story_date\": \"2024-12-04\",\n    \"story_count\": 4\n  },\n  {\n    \"user_id\": \"user_009\",\n    \"story_date\": \"2024-12-05\",\n    \"story_count\": 5\n  },\n  {\n    \"user_id\": \"user_009\",\n    \"story_date\": \"invalid_date\",\n    \"story_count\": 6\n  },\n  {\n    \"user_id\": \"user_010\",\n    \"story_date\": \"2025-03-15\",\n    \"story_count\": 7\n  },\n  {\n    \"user_id\": \"user_010\",\n    \"story_date\": \"2025-03-16\",\n    \"story_count\": 8\n  },\n  {\n    \"user_id\": \"user_010\",\n    \"story_date\": \"2025-03-17\",\n    \"story_count\": 9\n  },\n  {\n    \"user_id\": \"user_010\",\n    \"story_date\": \"2025-03-18\",\n    \"story_count\": 10\n  },\n  {\n    \"user_id\": \"user_010\",\n    \"story_date\": \"2025-03-19\",\n    \"story_count\": 11\n  },\n  {\n    \"user_id\": \"user_010\",\n    \"story_date\": \"2025-03-20\",\n    \"story_count\": 12\n  }\n]\nstories_data = pd.DataFrame(stories_data_data)\n"
    },
    {
      "cell_type": "markdown",
      "metadata": {},
      "source": [
        "## Question 1\n\nTake a look at the data in the story_date column. Correct any data type inconsistencies in that column."
      ]
    },
    {
      "cell_type": "code",
      "metadata": {},
      "execution_count": null,
      "outputs": [],
      "source": "# Note: pandas and numpy are already imported as pd and np\n# The following tables are loaded as pandas DataFrames with the same names: stories_data\n# Please print your final result or dataframe\n\n# Normalize blanks and bad text to NaN\nbad_values = {\"\", \" \", \"invalid_date\", None}\nstories_data[\"story_date\"] = (\n    stories_data[\"story_date\"]\n      .astype(\"string\")\n      .str.strip()\n      .where(lambda s: ~s.isin(bad_values))\n)\n\n# Parse to datetime — handles both YYYY/MM/DD and MM/DD/YYYY\nstories_data[\"story_date\"] = pd.to_datetime(stories_data[\"story_date\"], errors=\"coerce\")\n\nprint(stories_data)"
    },
    {
      "cell_type": "markdown",
      "metadata": {},
      "source": [
        "## Question 2\n\nCalculate the 25th, 50th, and 75th percentiles of the number of stories created per user per day."
      ]
    },
    {
      "cell_type": "code",
      "metadata": {},
      "execution_count": null,
      "outputs": [],
      "source": "grouped_df = stories_data.groupby(['user_id','story_date'])['story_count'].sum().reset_index(name='total_story_count')\nprint(grouped_df['total_story_count'].quantile(0.25))\nprint(grouped_df['total_story_count'].quantile(0.5))\nprint(grouped_df['total_story_count'].quantile(0.75))"
    },
    {
      "cell_type": "markdown",
      "metadata": {},
      "source": [
        "## Question 3\n\nWhat percentage of users have had at least one day, where they posted more than 10 stories on that day?"
      ]
    },
    {
      "cell_type": "code",
      "metadata": {},
      "execution_count": null,
      "outputs": [],
      "source": "grouped_df = stories_data.groupby(['user_id','story_date'])['story_count'].sum().reset_index(name='total_story_count')\n\nover10stories = grouped_df[\n  grouped_df['total_story_count']>10\n  ]\n\npercent_users_over_10 = (over10stories['user_id'].nunique())*100.0/stories_data['user_id'].nunique()\n\npercent_users_over_10"
    },
    {
      "cell_type": "markdown",
      "metadata": {},
      "source": [
        "Made with ❤️ by [Interview Master](https://www.interviewmaster.ai)"
      ]
    }
  ],
  "metadata": {
    "kernelspec": {
      "name": "python3",
      "language": "python",
      "display_name": "Python 3"
    },
    "language_info": {
      "name": "python",
      "version": "3",
      "mimetype": "text/x-python",
      "file_extension": ".py"
    }
  },
  "nbformat": 4,
  "nbformat_minor": 5
}